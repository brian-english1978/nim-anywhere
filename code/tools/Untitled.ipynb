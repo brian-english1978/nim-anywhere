{
 "cells": [
  {
   "cell_type": "code",
   "execution_count": 1,
   "id": "31ab9107-3f55-47af-8f3a-0235df7cd231",
   "metadata": {
    "scrolled": true
   },
   "outputs": [
    {
     "ename": "SyntaxError",
     "evalue": "invalid syntax (1504208232.py, line 1)",
     "output_type": "error",
     "traceback": [
      "\u001b[0;36m  Cell \u001b[0;32mIn[1], line 1\u001b[0;36m\u001b[0m\n\u001b[0;31m    -c \"import torch; print(torch.version.cuda)\".\u001b[0m\n\u001b[0m       ^\u001b[0m\n\u001b[0;31mSyntaxError\u001b[0m\u001b[0;31m:\u001b[0m invalid syntax\n"
     ]
    }
   ],
   "source": [
    "-c \"import torch; print(torch.version.cuda)\"."
   ]
  },
  {
   "cell_type": "code",
   "execution_count": 2,
   "id": "3285d8b1-d328-4ac3-8327-80ffc46418bd",
   "metadata": {},
   "outputs": [
    {
     "ename": "ModuleNotFoundError",
     "evalue": "No module named 'torch'",
     "output_type": "error",
     "traceback": [
      "\u001b[0;31m---------------------------------------------------------------------------\u001b[0m",
      "\u001b[0;31mModuleNotFoundError\u001b[0m                       Traceback (most recent call last)",
      "Cell \u001b[0;32mIn[2], line 1\u001b[0m\n\u001b[0;32m----> 1\u001b[0m \u001b[38;5;28;01mimport\u001b[39;00m \u001b[38;5;21;01mtorch\u001b[39;00m\n\u001b[1;32m      2\u001b[0m \u001b[38;5;28mprint\u001b[39m(torch\u001b[38;5;241m.\u001b[39mversion\u001b[38;5;241m.\u001b[39mcuda)\n",
      "\u001b[0;31mModuleNotFoundError\u001b[0m: No module named 'torch'"
     ]
    }
   ],
   "source": [
    "import torch\n",
    "print(torch.version.cuda)\n"
   ]
  },
  {
   "cell_type": "code",
   "execution_count": 3,
   "id": "00433695-8545-47bc-b88a-a1754cc62183",
   "metadata": {},
   "outputs": [
    {
     "ename": "SyntaxError",
     "evalue": "invalid syntax (191342909.py, line 7)",
     "output_type": "error",
     "traceback": [
      "\u001b[0;36m  Cell \u001b[0;32mIn[3], line 7\u001b[0;36m\u001b[0m\n\u001b[0;31m    function _divider() {\u001b[0m\n\u001b[0m             ^\u001b[0m\n\u001b[0;31mSyntaxError\u001b[0m\u001b[0;31m:\u001b[0m invalid syntax\n"
     ]
    }
   ],
   "source": [
    "#!/bin/bash\n",
    "set -e\n",
    "cd /project\n",
    "\n",
    "\n",
    "# helpers\n",
    "function _divider() {\n",
    "\techo -e \"\\n\\n\\n\\n\\n\"\n",
    "}\n",
    "\n",
    "# python deps\n",
    "function _bump_reqs() {\n",
    "\techo \"Updating Python Dependencies\"\n",
    "\tpip install bumper --upgrade > /dev/null\n",
    "\tbump\n",
    "}\n",
    "\n",
    "# nims\n",
    "function _bump_nims() {\n",
    "\techo \"Updating NIMs\"\n",
    "\tfor app in apps/*.sh; do\n",
    "\t\t# get application image\n",
    "\t\texport IMAGE=$(env -i /bin/bash $app image 2> /dev/null)\n",
    "\t\texport TAG=$(env -i /bin/bash $app tag 2> /dev/null)\n",
    "\n",
    "\t\t# ensure this is a nim\n",
    "\t\tif [[ \"$IMAGE\" != \"nvcr.io/nim/\"* ]]; then\n",
    "\t\t\tcontinue\n",
    "\t\tfi\n",
    "\n",
    "\t\t# find the latest tag\n",
    "\t\tLATEST=$( \\\n",
    "\t\t\tskopeo list-tags docker://$IMAGE | \\\n",
    "\t\t\tjq '.Tags' | \\\n",
    "\t\t\tjq -r '.[] | select(contains(\"sha256\") | not)' | \\\n",
    "\t\t\tgrep -v 'latest' | \\\n",
    "\t\t\ttail -n 1)\n",
    "\n",
    "\t\t# check if an update is required\n",
    "\t\tif [ \"${LATEST}x\" != \"${TAG}x\" ]; then\n",
    "\t\t\techo \"Updating: $app [ $TAG -> $LATEST ]\"\n",
    "\t\t\tsed -i -r 's/(^TAG=.*)\"'$TAG'\"\\)/\\1\"'$LATEST'\")/g' \"$app\"\n",
    "\t\t\tgit diff \"$app\"\n",
    "\t\telse\n",
    "\t\t\techo \"NO CHANGE\"\n",
    "\t\t\techo \"$TAG == $LATEST\"\n",
    "\t\tfi\n",
    "\t\techo \"\"\n",
    "\tdone\n",
    "}\n",
    "\n",
    "main() {\n",
    "\t_bump_reqs\n",
    "\t_divider\n",
    "\t_bump_nims\n",
    "}\n",
    "\n",
    "main\n"
   ]
  },
  {
   "cell_type": "code",
   "execution_count": null,
   "id": "2b4749f4-9f3d-4ea2-bcff-77ca73f79c57",
   "metadata": {},
   "outputs": [],
   "source": []
  }
 ],
 "metadata": {
  "kernelspec": {
   "display_name": "Python 3 (ipykernel)",
   "language": "python",
   "name": "python3"
  },
  "language_info": {
   "codemirror_mode": {
    "name": "ipython",
    "version": 3
   },
   "file_extension": ".py",
   "mimetype": "text/x-python",
   "name": "python",
   "nbconvert_exporter": "python",
   "pygments_lexer": "ipython3",
   "version": "3.10.12"
  }
 },
 "nbformat": 4,
 "nbformat_minor": 5
}
